{
 "cells": [
  {
   "cell_type": "markdown",
   "id": "43309c6e",
   "metadata": {},
   "source": [
    "In this notebook, I use dash and other component to create the Covid_19 dashboard. The data is from [Our World in Data](https://github.com/owid/covid-19-data/tree/master/public/data). The dashboard replicates some of the features of the COVID-19 dashboard by the [WHO](https://covid19.who.int/).\n",
    "\n",
    "It is recommended to create an virtual environment using Anaconda prompt to avoid the conflict when loading new components. "
   ]
  },
  {
   "cell_type": "code",
   "execution_count": null,
   "id": "44e5972b",
   "metadata": {},
   "outputs": [],
   "source": [
    "# loading packages. These packages should be installed in advance when creating new virtual environment. \n",
    "# Using either conda install or pip install \n",
    "import dash\n",
    "from dash import dcc, html\n",
    "from jupyter_dash import JupyterDash\n",
    "from dash.dependencies import Input, Output\n",
    "import dash_bootstrap_components as dbc\n",
    "\n",
    "from dash_bootstrap_templates import load_figure_template\n",
    "\n",
    "import plotly.express as px\n",
    "import pandas as pd\n",
    "from datetime import datetime, timedelta"
   ]
  },
  {
   "cell_type": "code",
   "execution_count": null,
   "id": "ad228de0",
   "metadata": {},
   "outputs": [],
   "source": [
    "# set URL to external CSS file \n",
    "dbc_css = 'https://cdn.jsdelivr.net/gh/AnnMarieW/dash-bootstrap-templates@V1.0.2/dbc.min.css'"
   ]
  },
  {
   "cell_type": "markdown",
   "id": "33de89df",
   "metadata": {},
   "source": [
    "## 1. Extract and wrangle data"
   ]
  },
  {
   "cell_type": "code",
   "execution_count": null,
   "id": "3ffb58b5",
   "metadata": {},
   "outputs": [],
   "source": [
    "# load data, the data is updated from 24 Feb 2020 to now.\n",
    "url = 'https://covid.ourworldindata.org/data/owid-covid-data.csv'\n",
    "\n",
    "# create a list with name of some varaibles from the dataset\n",
    "cols_lst = ['iso_code', \n",
    "            'location', \n",
    "            'continent',\n",
    "            'date', \n",
    "            'new_cases', \n",
    "            'total_cases',\n",
    "            'total_cases_per_million',\n",
    "            'new_deaths', \n",
    "            'total_deaths',\n",
    "            'total_deaths_per_million',\n",
    "            'people_fully_vaccinated',\n",
    "            'total_vaccinations_per_hundred',\n",
    "            'people_vaccinated_per_hundred',\n",
    "            'new_vaccinations']\n",
    "\n",
    "# create the dataframe using pandas read_csv, columns' names are as cols_lst\n",
    "df = pd.read_csv(url, usecols = cols_lst) # 205692 obs × 14 variables\n",
    "\n",
    "# Convert date to datetime\n",
    "df['date'] = pd.to_datetime(df['date'], format = '%Y-%m-%d')\n",
    "\n",
    "df.head()"
   ]
  },
  {
   "cell_type": "code",
   "execution_count": null,
   "id": "f872d15c",
   "metadata": {},
   "outputs": [],
   "source": [
    "# first count the total NaN observations.\n",
    "df.isna().sum()"
   ]
  },
  {
   "cell_type": "code",
   "execution_count": null,
   "id": "424f27ad",
   "metadata": {},
   "outputs": [],
   "source": [
    "# there are too many NaN obs, I assume that the three columns new_deaths, new_cases, and new_vaccinations \n",
    "# could be 0. \n",
    "for col in ['new_vaccinations', 'new_deaths', 'new_cases']:\n",
    "    df[col].fillna(0, inplace=True)"
   ]
  },
  {
   "cell_type": "code",
   "execution_count": null,
   "id": "71b83f79",
   "metadata": {},
   "outputs": [],
   "source": [
    "# for continent, it also contains aggregates, aka continents. \n",
    "# df[df['continent'].isna()] # 11893 obs\n",
    "# I filter the observations for the world and store it in a variable called df_world\n",
    "# extract wolrd\n",
    "df_world = df[df['location'] == 'World'].copy() # 923 obs\n",
    "df_world.tail()"
   ]
  },
  {
   "cell_type": "markdown",
   "id": "091da434",
   "metadata": {},
   "source": [
    "First feature, using df_world to extract the global totals. "
   ]
  },
  {
   "cell_type": "code",
   "execution_count": null,
   "id": "cef5269b",
   "metadata": {},
   "outputs": [],
   "source": [
    "df_world[df_world['people_fully_vaccinated'].isna()] # 326 obs"
   ]
  },
  {
   "cell_type": "code",
   "execution_count": null,
   "id": "16f30e17",
   "metadata": {},
   "outputs": [],
   "source": [
    "df_world_tot = df_world.groupby('location').last().copy() # group the world input, using groupby().last() function. \n",
    "# only data from last row displays.\n",
    "\n",
    "# extract total cases\n",
    "tot_deaths = int(df_world_tot['total_deaths'])\n",
    "tot_cases = int(df_world_tot['total_cases'])\n",
    "tot_vac = int(df_world_tot['people_fully_vaccinated'])\n",
    "\n",
    "print('Total deaths: {:,}'.format(tot_deaths))\n",
    "print('Total cases: {:,}'.format(tot_cases))\n",
    "print('People fully vaccinated: {:,}'.format(tot_vac))"
   ]
  },
  {
   "cell_type": "markdown",
   "id": "fb39117d",
   "metadata": {},
   "source": [
    "Feature 2, using df to extract the most recent data for each location in the world"
   ]
  },
  {
   "cell_type": "code",
   "execution_count": null,
   "id": "812ffb45",
   "metadata": {},
   "outputs": [],
   "source": [
    "# extract the most recent obs, not NaN, for each location.\n",
    "df_last = df.groupby('location').last().reset_index() # 244 obs\n",
    "df_last.head()"
   ]
  },
  {
   "cell_type": "code",
   "execution_count": null,
   "id": "024a1032",
   "metadata": {},
   "outputs": [],
   "source": [
    "# drop aggregates (missing continent info)\n",
    "df_last = df_last[~df_last['continent'].isna()].copy()\n",
    "print('Number of unique countries: ', df_last['location'].nunique())"
   ]
  },
  {
   "cell_type": "code",
   "execution_count": null,
   "id": "84f602e2",
   "metadata": {},
   "outputs": [],
   "source": [
    "df_last.isna().sum()\n",
    "# there are still some contries that missings info \n",
    "df_last[df_last['total_deaths'].isna()]\n",
    "# but they seem like small islands/ countiries with smalls number of covid19 cases. so we can ignore these missing data"
   ]
  },
  {
   "cell_type": "markdown",
   "id": "fbd1ad8f",
   "metadata": {},
   "source": [
    "Feature 3, using df_world but now for calcualting the weekly sums of new deaths , cases and vaccinations."
   ]
  },
  {
   "cell_type": "code",
   "execution_count": null,
   "id": "826ed1ba",
   "metadata": {},
   "outputs": [],
   "source": [
    "# set index to date \n",
    "df_world.set_index('date', inplace = True)\n",
    "\n",
    "# use resample method to sum each colum by week\n",
    "df_world_week = df_world.resample('W').sum().reset_index() # 133 obs\n"
   ]
  },
  {
   "cell_type": "code",
   "execution_count": null,
   "id": "5b2cab7b",
   "metadata": {},
   "outputs": [],
   "source": [
    "df_world_week.head()"
   ]
  },
  {
   "cell_type": "markdown",
   "id": "1ff30454",
   "metadata": {},
   "source": [
    "Creating a function call plot_bar that returns a bar plot of a given column in df_world_week"
   ]
  },
  {
   "cell_type": "code",
   "execution_count": null,
   "id": "db401fb8",
   "metadata": {},
   "outputs": [],
   "source": [
    "def plot_bar(col_name, data = df_world_week):\n",
    "    ''' define a function to return a figure. it has two params\n",
    "    col_name: the name of column we want to plot\n",
    "    data = df_world_week: set the df_world_week as the default\n",
    "    return: the bar chart that illustrates the col_name data'''\n",
    "    \n",
    "    # create the bar chart with x-axis as date, y-axis as col_name values.\n",
    "    fig = px.bar(\n",
    "        data, \n",
    "        x = 'date',\n",
    "        y = col_name,\n",
    "        labels = {'date': 'Date', col_name: 'Week sum'})\n",
    "    \n",
    "    # set the layout for the bar chart \n",
    "    fig.update_layout(\n",
    "        xaxis_title = None, \n",
    "        yaxis_title = None, \n",
    "        margin = {'t': 0, 'b': 0, 'r': 0, 'l': 0},\n",
    "        height = 300\n",
    "    )\n",
    "    return fig\n",
    "\n",
    "plot_bar('new_vaccinations')"
   ]
  },
  {
   "cell_type": "markdown",
   "id": "686e0690",
   "metadata": {},
   "source": [
    "Creating a function call plot_map using df_last that returns a world map"
   ]
  },
  {
   "cell_type": "code",
   "execution_count": null,
   "id": "49f29b78",
   "metadata": {},
   "outputs": [],
   "source": [
    "def plot_map(col_name, data= df_last):\n",
    "    '''define a function that return a world map, \n",
    "    params col_name: name of the column from df_last,\n",
    "    param df_last: set the df_last as the default dataset\n",
    "    return: a world map with col_name data display'''\n",
    "    \n",
    "    # set a world map\n",
    "    fig = px.choropleth(\n",
    "        data, \n",
    "        locations = 'iso_code', \n",
    "        color = col_name, \n",
    "        scope = 'world', \n",
    "        hover_name = 'location', \n",
    "        hover_data = {'iso_code': False}, \n",
    "        labels = {col_name: 'value'}\n",
    "    )\n",
    "    \n",
    "    # update world map layout that all right, left, top, bottom = 0\n",
    "    fig.update_layout(margin = {'r': 0, 'l': 0, 't': 0, 'b': 0})\n",
    "    \n",
    "    fig.update_layout(\n",
    "        coloraxis_colorbar_title_text = None, \n",
    "        coloraxis_showscale = True, \n",
    "        geo = {'showframe': False})\n",
    "    \n",
    "    return fig \n",
    "\n",
    "plot_map('new_vaccinations')"
   ]
  },
  {
   "cell_type": "markdown",
   "id": "68ad9e31",
   "metadata": {},
   "source": [
    "## 2. Create the dashboard"
   ]
  },
  {
   "cell_type": "raw",
   "id": "8b6f32d6",
   "metadata": {},
   "source": [
    "Feature 1: the global totals are stored in variables tot_deaths, tot_cases, and tot_vac, and they are displayed inside Card components."
   ]
  },
  {
   "cell_type": "code",
   "execution_count": null,
   "id": "44efe0a4",
   "metadata": {},
   "outputs": [],
   "source": [
    "# set the total deaths card\n",
    "deaths_card = dbc.Card(\n",
    "    children = [ \n",
    "        html.H4('Total deaths'),\n",
    "        html.H2('{:,}'.format(tot_deaths))\n",
    "    ],\n",
    "    body = True,)\n",
    "\n",
    "# set the total cases card\n",
    "cases_card = dbc.Card(\n",
    "    children = [ \n",
    "        html.H4('Total cases'),\n",
    "        html.H2('{:,}'.format(tot_cases))\n",
    "    ],\n",
    "    body = True,)\n",
    "\n",
    "# set the total vaccinantion card\n",
    "vac_card = dbc.Card(\n",
    "    children = [ \n",
    "        html.H4('People vaccinated'),\n",
    "        html.H2('{:,}'.format(tot_vac))\n",
    "    ],\n",
    "    body = True,)"
   ]
  },
  {
   "cell_type": "markdown",
   "id": "41c80efe",
   "metadata": {},
   "source": [
    "Feature 2 & 3, creating two selectors, a `Dropdown` component for selecting the variable and a `Dropdown` component for selecting the metric in feature 2. The two selectors are placed inside a `Card` component."
   ]
  },
  {
   "cell_type": "code",
   "execution_count": null,
   "id": "20224c5a",
   "metadata": {},
   "outputs": [],
   "source": [
    "# select variables \n",
    "var_selector = dcc.Dropdown(\n",
    "    id = 'variable',\n",
    "    options = [{'label': 'Deaths', 'value': 'deaths'},\n",
    "               {'label': 'Cases', 'value': 'cases'},\n",
    "               {'label': 'Vaccinations', 'value': 'vaccinations'}],\n",
    "    value = 'deaths',\n",
    "    clearable = False,\n",
    ")\n",
    "\n",
    "# metric selector \n",
    "metric_selector = dcc.Dropdown(\n",
    "    id = 'metric', \n",
    "    options = [], \n",
    "    value = None, \n",
    "    clearable = False, \n",
    "    optionHeight = 80\n",
    "    )"
   ]
  },
  {
   "cell_type": "code",
   "execution_count": null,
   "id": "c448fdf1",
   "metadata": {},
   "outputs": [],
   "source": [
    "selector_card = dbc.Card([\n",
    "    html.Label('Select variable: '),\n",
    "    var_selector,\n",
    "    html.Br(),\n",
    "    html.Label('Select metric: '), \n",
    "    metric_selector\n",
    "],\n",
    "    body = True, color = 'primary')"
   ]
  },
  {
   "cell_type": "code",
   "execution_count": null,
   "id": "75177e0b",
   "metadata": {},
   "outputs": [],
   "source": [
    "# place feature 2 & 3 inside Card components \n",
    "map_card = dbc.Card([\n",
    "    dbc.Row([\n",
    "        dbc.Col(id = 'current_week', width = 3),\n",
    "        dbc.Col(dcc.Graph(id = 'bar_plot', config = {'displayModeBar': False}), width = 9)\n",
    "    ])\n",
    "])"
   ]
  },
  {
   "cell_type": "code",
   "execution_count": null,
   "id": "d0c31343",
   "metadata": {},
   "outputs": [],
   "source": [
    "bar_card = dbc.Card([\n",
    "    dbc.Row([\n",
    "        dbc.Col(selector_card, width = 3),\n",
    "        dbc.Col(dcc.Graph(id = 'map', config = {'displayModeBar': False}), width = 9)\n",
    "    ])\n",
    "], \n",
    "    body =True\n",
    ")"
   ]
  },
  {
   "cell_type": "code",
   "execution_count": null,
   "id": "faaac3c8",
   "metadata": {},
   "outputs": [],
   "source": [
    "template = 'lux'\n",
    "load_figure_template(template)\n",
    "app = JupyterDash(external_stylesheets = [dbc.themes.LUX, dbc_css])\n",
    "\n",
    "description = \"\"\"\n",
    "A Dash application that tracks the development of COVID-19 and vaccination around the world. \n",
    "\n",
    "Data is collected from [Our World in Data](https://ourworldindata.org/coronavirus).\n",
    "\"\"\"\n",
    "\n",
    "app.layout = dbc.Container([\n",
    "    \n",
    "    html.H1('COVID-19 tracker'),\n",
    "    html.P(dcc.Markdown(description)),\n",
    "    \n",
    "    # Row wth cards with totals\n",
    "    dbc.Row(\n",
    "        children = [\n",
    "            dbc.Col(deaths_card, width = 4),\n",
    "            dbc.Col(cases_card, width = 4),\n",
    "            dbc.Col(vac_card, width = 4)\n",
    "        ]\n",
    "    ),\n",
    "    html.Br(),\n",
    "    \n",
    "    # Card with selectors and map\n",
    "    map_card,\n",
    "    html.Br(),\n",
    "    \n",
    "    # Card with bar plot\n",
    "    bar_card,\n",
    "    html.Br()\n",
    "    \n",
    "],   \n",
    "    className = 'dbc'\n",
    ")\n",
    "\n",
    "@app.callback(\n",
    "    Output('metric', 'options'),\n",
    "    Output('metric', 'value'),\n",
    "    Input('variable', 'value')\n",
    ")\n",
    "def set_metric_options(var):\n",
    "    \n",
    "    if var == 'vaccinations':\n",
    "        options = [\n",
    "            {'label' : 'Total doses administered per 100 population', 'value' : 'total_vaccinations_per_hundred'},\n",
    "            {'label' : 'Persons vaccinated with at least one dose per 100 population', 'value' : 'people_vaccinated_per_hundred'},\n",
    "            {'label' : 'Persons fully vaccinated with last dose of primary series', 'value' : 'people_fully_vaccinated'}\n",
    "        ]\n",
    "        value = 'total_vaccinations_per_hundred'\n",
    "        \n",
    "    else:\n",
    "        options = [\n",
    "            {'label' : 'Total', 'value' : 'total'},\n",
    "            {'label' : 'Total per 1 million population', 'value' : 'total_per_million'},\n",
    "            {'label' : 'Newely reported in last 24 hours', 'value' : 'last_24h'},\n",
    "        ]\n",
    "        value = 'total'\n",
    "\n",
    "    return options, value\n",
    "\n",
    "@app.callback(\n",
    "    Output('map', 'figure'),\n",
    "    Input('variable', 'value'),\n",
    "    Input('metric', 'value')\n",
    ")\n",
    "def update_map(var, metric):\n",
    "    \n",
    "    if metric == 'last_24h':\n",
    "        col_name = 'new_' + var\n",
    "    elif metric == 'total':\n",
    "        col_name = 'total_' + var\n",
    "    elif metric == 'total_per_million':\n",
    "        col_name = 'total_' + var + '_per_million'\n",
    "    else:\n",
    "        col_name = metric\n",
    "        \n",
    "    fig = plot_map(col_name)\n",
    "    \n",
    "    return fig\n",
    "\n",
    "\n",
    "@app.callback(\n",
    "    Output('bar_plot', 'figure'),\n",
    "    Output('current_week', 'children'),\n",
    "    Input('variable', 'value')\n",
    ")\n",
    "def update_bar(var, df = df_world_week):\n",
    "    \n",
    "    col_name = 'new_' + var\n",
    "    \n",
    "    # Create figure\n",
    "    fig = plot_bar(col_name)\n",
    "    fig.update_layout(\n",
    "        xaxis_title = None, \n",
    "        yaxis_title = None, \n",
    "        margin =  {'t' : 0, 'b' : 0, 'r' : 0, 'l' : 0},\n",
    "        height = 250\n",
    "    ) \n",
    "    \n",
    "    # Create text\n",
    "    current_number = int(df.iloc[-2][col_name])\n",
    "    text = dbc.Container([\n",
    "        html.H2('{:,}'.format(current_number)),\n",
    "        html.H4(var),\n",
    "        html.H4('last week')\n",
    "    ], style = {'marginTop' : 50})\n",
    "    \n",
    "    return fig, text\n",
    "    \n",
    "\n",
    "app.run_server()"
   ]
  },
  {
   "cell_type": "code",
   "execution_count": null,
   "id": "4f179075",
   "metadata": {},
   "outputs": [],
   "source": []
  }
 ],
 "metadata": {
  "kernelspec": {
   "display_name": "Python 3 (ipykernel)",
   "language": "python",
   "name": "python3"
  },
  "language_info": {
   "codemirror_mode": {
    "name": "ipython",
    "version": 3
   },
   "file_extension": ".py",
   "mimetype": "text/x-python",
   "name": "python",
   "nbconvert_exporter": "python",
   "pygments_lexer": "ipython3",
   "version": "3.9.10"
  }
 },
 "nbformat": 4,
 "nbformat_minor": 5
}
